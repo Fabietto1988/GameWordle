{
 "cells": [
  {
   "cell_type": "code",
   "execution_count": 5,
   "id": "e5a594be-2b5c-43a8-ad80-8a81359cd93d",
   "metadata": {},
   "outputs": [],
   "source": [
    "# { 0: 4, 3: 3 }\n",
    "# [\"yellow\", \"grey\", \"grey\", \"green\", \"grey\"]"
   ]
  },
  {
   "cell_type": "code",
   "execution_count": null,
   "id": "24d1eba8-bbcb-4a92-b9d1-79801b4f83e6",
   "metadata": {},
   "outputs": [],
   "source": []
  },
  {
   "cell_type": "code",
   "execution_count": null,
   "id": "52469b33-1d97-42f9-801d-009ea18474db",
   "metadata": {},
   "outputs": [],
   "source": []
  },
  {
   "cell_type": "code",
   "execution_count": 12,
   "id": "01eb7e86-807e-4af4-af61-325f428f5e13",
   "metadata": {},
   "outputs": [
    {
     "name": "stdout",
     "output_type": "stream",
     "text": [
      "Lettera dell'utente n. 0 \n",
      "Lettera dell'utente n. 1 \n",
      "Lettera dell'utente n. 2 \n",
      "Lettera dell'utente n. 3 \n",
      "PRIMA DELLA REMOVE\n",
      "KEYS         -> [0, 2]\n",
      "VALUES       -> [3, 4]\n",
      "OCCURRENCIES -> {}\n",
      "DOPO DELLA REMOVE\n",
      "KEYS         -> [0, 2]\n",
      "VALUES       -> [4]\n",
      "OCCURRENCIES -> {}\n",
      "Lettera dell'utente n. 4 \n",
      "['T', 'A', 'T', 'T', 'Y']\n",
      "['B', 'R', 'I', 'T', 'T']\n",
      "{3: 3}\n",
      "['grey', 'grey', 'grey', 'green', 'grey']\n"
     ]
    }
   ],
   "source": [
    "user = list(\"TATTY\")\n",
    "word = list(\"BRITT\")\n",
    "occurrencies = {}\n",
    "statuses = []\n",
    "\n",
    "for i in range(len(user)):\n",
    "    print(f\"Lettera dell'utente n. {i} \")\n",
    "    u = user[i]\n",
    "    status = \"grey\"\n",
    "    for j in range(len(word)):\n",
    "        w = word[j]\n",
    "        if u == w:\n",
    "            if i == j:\n",
    "                status = \"green\"\n",
    "                # qui farò tutti i controllli del caso \n",
    "                values = list(occurrencies.values())\n",
    "                \n",
    "\n",
    "\n",
    "                if j in values:\n",
    "                    keys = [ key for key, v in occurrencies.items() if v in values ]\n",
    "                    \n",
    "                    for key in keys:\n",
    "                        if statuses[key] != \"green\":\n",
    "                            del occurrencies [key]\n",
    "                            statuses[key] = \"grey\"\n",
    "\n",
    "                    \n",
    "                    print(f\"PRIMA DELLA REMOVE\")\n",
    "                    print(f\"KEYS         -> {keys}\")\n",
    "                    print(f\"VALUES       -> {values}\")\n",
    "                    print(f\"OCCURRENCIES -> {occurrencies}\")\n",
    "                    values.remove(j)\n",
    "                    print(f\"DOPO DELLA REMOVE\")\n",
    "                    print(f\"KEYS         -> {keys}\")\n",
    "                    print(f\"VALUES       -> {values}\")\n",
    "                    print(f\"OCCURRENCIES -> {occurrencies}\")\n",
    "\n",
    "                \n",
    "                occurrencies[i] = j\n",
    "                break\n",
    "\n",
    "           \n",
    "                \n",
    "\n",
    "            if i not in occurrencies.keys() and j not in occurrencies.values():\n",
    "               status = \"orange\"\n",
    "               occurrencies[i] = j\n",
    "                \n",
    "\n",
    "    \n",
    "\n",
    "\n",
    "    statuses.append(status)\n",
    "    \n",
    "\n",
    "print(user)\n",
    "print(word) \n",
    "print(occurrencies)\n",
    "print(statuses)"
   ]
  },
  {
   "cell_type": "code",
   "execution_count": null,
   "id": "6b48d8b7-cc4b-4231-adce-32da481f67d7",
   "metadata": {},
   "outputs": [],
   "source": [
    " "
   ]
  },
  {
   "cell_type": "code",
   "execution_count": null,
   "id": "004339c4-e973-4ad1-b152-b4831c36cc57",
   "metadata": {},
   "outputs": [],
   "source": []
  },
  {
   "cell_type": "code",
   "execution_count": null,
   "id": "523754c6-c5d9-4e76-9c88-baf96132b069",
   "metadata": {},
   "outputs": [],
   "source": [
    " "
   ]
  },
  {
   "cell_type": "code",
   "execution_count": null,
   "id": "0bd319a6-28a8-43f1-bd35-abe89b1d0be4",
   "metadata": {},
   "outputs": [],
   "source": []
  },
  {
   "cell_type": "code",
   "execution_count": null,
   "id": "c70df818-932c-45be-8065-bfd9967922ba",
   "metadata": {},
   "outputs": [],
   "source": []
  },
  {
   "cell_type": "code",
   "execution_count": null,
   "id": "005db71e-cb1a-43ff-934e-e7365b7be33b",
   "metadata": {},
   "outputs": [],
   "source": []
  },
  {
   "cell_type": "code",
   "execution_count": null,
   "id": "16b4459c-f78a-4650-b65c-0e92ca48eb13",
   "metadata": {},
   "outputs": [],
   "source": []
  },
  {
   "cell_type": "code",
   "execution_count": null,
   "id": "85c5bd62-a5c7-4192-89b0-c132eec8b601",
   "metadata": {},
   "outputs": [],
   "source": [
    "   "
   ]
  },
  {
   "cell_type": "code",
   "execution_count": null,
   "id": "e9dd65d6-43d6-4313-8049-60b5ca6979ed",
   "metadata": {},
   "outputs": [],
   "source": []
  },
  {
   "cell_type": "code",
   "execution_count": null,
   "id": "a566d1e1-e856-4b49-9b11-a19ce2095ebe",
   "metadata": {},
   "outputs": [],
   "source": []
  },
  {
   "cell_type": "code",
   "execution_count": null,
   "id": "4be2f73e-6a14-4328-bd6b-643f2a025e30",
   "metadata": {},
   "outputs": [],
   "source": []
  },
  {
   "cell_type": "code",
   "execution_count": null,
   "id": "9c8be3b7-0454-4cfd-80f8-d5e56039a6ff",
   "metadata": {},
   "outputs": [],
   "source": []
  },
  {
   "cell_type": "code",
   "execution_count": null,
   "id": "8a1c1523-e650-40d9-90f5-e142c17c19f4",
   "metadata": {},
   "outputs": [],
   "source": []
  },
  {
   "cell_type": "code",
   "execution_count": null,
   "id": "f7e3b941-2519-4242-8325-709b984998db",
   "metadata": {},
   "outputs": [],
   "source": []
  },
  {
   "cell_type": "code",
   "execution_count": null,
   "id": "91fff15f-ae88-4866-8103-5efa4ce443e3",
   "metadata": {},
   "outputs": [],
   "source": []
  },
  {
   "cell_type": "code",
   "execution_count": null,
   "id": "1e2f4645-754d-41d6-8575-c56d6ea4eac1",
   "metadata": {},
   "outputs": [],
   "source": []
  },
  {
   "cell_type": "code",
   "execution_count": null,
   "id": "cdfea2a1-0d51-4b16-9f31-4939e7eedf5b",
   "metadata": {},
   "outputs": [],
   "source": []
  },
  {
   "cell_type": "code",
   "execution_count": null,
   "id": "02d633a2-b2e5-42d6-a07a-411664e2525d",
   "metadata": {},
   "outputs": [],
   "source": []
  },
  {
   "cell_type": "code",
   "execution_count": null,
   "id": "874eb72a-e48e-44bd-96df-d64711d21957",
   "metadata": {},
   "outputs": [],
   "source": []
  },
  {
   "cell_type": "code",
   "execution_count": null,
   "id": "5cd405b2-3a32-41d1-9bd5-f31555137d92",
   "metadata": {},
   "outputs": [],
   "source": []
  },
  {
   "cell_type": "code",
   "execution_count": null,
   "id": "a736763b-0a9a-42aa-a997-1c588d6608c4",
   "metadata": {},
   "outputs": [],
   "source": []
  },
  {
   "cell_type": "code",
   "execution_count": null,
   "id": "e0d97fb6-85a6-4a98-8583-b865fd9407a2",
   "metadata": {},
   "outputs": [],
   "source": []
  },
  {
   "cell_type": "code",
   "execution_count": null,
   "id": "28cb06ff-efd6-44d7-acbe-f9736bff1227",
   "metadata": {},
   "outputs": [],
   "source": []
  },
  {
   "cell_type": "code",
   "execution_count": null,
   "id": "e72aafbc-e33d-4769-b9b3-b52527f87d66",
   "metadata": {},
   "outputs": [],
   "source": []
  },
  {
   "cell_type": "code",
   "execution_count": null,
   "id": "443c7b7a-b8e2-4f9a-9e0c-e574db56a4fe",
   "metadata": {},
   "outputs": [],
   "source": []
  },
  {
   "cell_type": "code",
   "execution_count": null,
   "id": "8a3ccf4a-aa6c-4f68-9c69-f11ecd84256d",
   "metadata": {},
   "outputs": [],
   "source": []
  },
  {
   "cell_type": "code",
   "execution_count": null,
   "id": "b6f45ed1-cb63-4187-a1ce-b9401ddbf7c0",
   "metadata": {},
   "outputs": [],
   "source": []
  },
  {
   "cell_type": "code",
   "execution_count": null,
   "id": "92b9f9f8-c373-49ea-9a93-581e2e5ece5e",
   "metadata": {},
   "outputs": [],
   "source": []
  },
  {
   "cell_type": "code",
   "execution_count": null,
   "id": "eae88fb8-c622-4db3-82a0-f5833ff584e6",
   "metadata": {},
   "outputs": [],
   "source": []
  },
  {
   "cell_type": "code",
   "execution_count": null,
   "id": "21e58294-5966-4aa8-b5e5-799251aee71e",
   "metadata": {},
   "outputs": [],
   "source": []
  },
  {
   "cell_type": "code",
   "execution_count": null,
   "id": "23af3bf8-e3eb-4542-986d-b967c572d2a4",
   "metadata": {},
   "outputs": [],
   "source": []
  },
  {
   "cell_type": "code",
   "execution_count": null,
   "id": "599a6b0c-613d-4831-a3a7-d64376ddc4a4",
   "metadata": {},
   "outputs": [],
   "source": []
  },
  {
   "cell_type": "code",
   "execution_count": null,
   "id": "03b66f88-8807-494b-bffe-9332c4a32b35",
   "metadata": {},
   "outputs": [],
   "source": []
  },
  {
   "cell_type": "code",
   "execution_count": null,
   "id": "aa698b68-f22d-4485-953b-25b5ce7ab85e",
   "metadata": {},
   "outputs": [],
   "source": []
  },
  {
   "cell_type": "code",
   "execution_count": null,
   "id": "f7947ace-640a-4de8-8791-04e903cf8008",
   "metadata": {},
   "outputs": [],
   "source": []
  },
  {
   "cell_type": "code",
   "execution_count": null,
   "id": "761c2151-a416-4a26-abd1-76d90a484bb9",
   "metadata": {},
   "outputs": [],
   "source": []
  },
  {
   "cell_type": "code",
   "execution_count": null,
   "id": "cc869f7a-f600-418f-8427-bc064ddca63d",
   "metadata": {},
   "outputs": [],
   "source": []
  },
  {
   "cell_type": "code",
   "execution_count": null,
   "id": "df6e68a4-5770-42fc-8b07-68d1b5f05bf8",
   "metadata": {},
   "outputs": [],
   "source": []
  },
  {
   "cell_type": "code",
   "execution_count": null,
   "id": "d00d0b84-0ae0-4f21-aa39-0955e1edc637",
   "metadata": {},
   "outputs": [],
   "source": []
  },
  {
   "cell_type": "code",
   "execution_count": null,
   "id": "8ad3d54e-71ee-4067-84af-ba66f37998aa",
   "metadata": {},
   "outputs": [],
   "source": []
  },
  {
   "cell_type": "code",
   "execution_count": null,
   "id": "36426dda-2309-4d17-98df-43514639ee5d",
   "metadata": {},
   "outputs": [],
   "source": []
  },
  {
   "cell_type": "code",
   "execution_count": null,
   "id": "4ff45a02-de7f-4c35-b5c2-44f5668358d9",
   "metadata": {},
   "outputs": [],
   "source": []
  },
  {
   "cell_type": "code",
   "execution_count": null,
   "id": "14305c37-58ce-4b30-8978-ec2e057b17ea",
   "metadata": {},
   "outputs": [],
   "source": []
  },
  {
   "cell_type": "code",
   "execution_count": null,
   "id": "32e0dd67-279e-459e-9348-4977aebda3be",
   "metadata": {},
   "outputs": [],
   "source": []
  },
  {
   "cell_type": "code",
   "execution_count": null,
   "id": "45e2330c-f808-4579-a70c-98fa2fb2cd0c",
   "metadata": {},
   "outputs": [],
   "source": []
  },
  {
   "cell_type": "code",
   "execution_count": null,
   "id": "478f197f-3138-4fb1-b4f8-1bcb11a450ec",
   "metadata": {},
   "outputs": [],
   "source": []
  },
  {
   "cell_type": "code",
   "execution_count": null,
   "id": "fc66afa4-8481-4301-bf39-215e41bffd40",
   "metadata": {},
   "outputs": [],
   "source": []
  }
 ],
 "metadata": {
  "kernelspec": {
   "display_name": "Python 3 (ipykernel)",
   "language": "python",
   "name": "python3"
  },
  "language_info": {
   "codemirror_mode": {
    "name": "ipython",
    "version": 3
   },
   "file_extension": ".py",
   "mimetype": "text/x-python",
   "name": "python",
   "nbconvert_exporter": "python",
   "pygments_lexer": "ipython3",
   "version": "3.11.6"
  }
 },
 "nbformat": 4,
 "nbformat_minor": 5
}
