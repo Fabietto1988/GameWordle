{
 "cells": [
  {
   "cell_type": "code",
   "execution_count": 5,
   "id": "e5a594be-2b5c-43a8-ad80-8a81359cd93d",
   "metadata": {},
   "outputs": [],
   "source": [
    "# { 0: 4, 3: 3 }\n",
    "# [\"yellow\", \"grey\", \"grey\", \"green\", \"grey\"]"
   ]
  },
  {
   "cell_type": "code",
   "execution_count": null,
   "id": "24d1eba8-bbcb-4a92-b9d1-79801b4f83e6",
   "metadata": {},
   "outputs": [],
   "source": []
  },
  {
   "cell_type": "code",
   "execution_count": null,
   "id": "52469b33-1d97-42f9-801d-009ea18474db",
   "metadata": {},
   "outputs": [],
   "source": []
  },
  {
   "cell_type": "code",
   "execution_count": 21,
   "id": "01eb7e86-807e-4af4-af61-325f428f5e13",
   "metadata": {},
   "outputs": [
    {
     "name": "stdout",
     "output_type": "stream",
     "text": [
      "['O', 'T', 'T', 'T', 'O']\n",
      "['B', 'R', 'I', 'T', 'T']\n",
      "{1: 4, 3: 3}\n",
      "['grey', 'yellow', 'grey', 'green', 'grey']\n"
     ]
    }
   ],
   "source": [
    "user = list(\"OTTTO\")\n",
    "word = list(\"BRITT\")\n",
    "occurrencies = {}\n",
    "statuses = []\n",
    "\n",
    "for i in range(len(user)):\n",
    "    #print(f\"Lettera dell'utente n. {i} \")\n",
    "    u = user[i]\n",
    "    status = \"grey\"\n",
    "    for j in range(len(word)):\n",
    "        w = word[j]\n",
    "        if u == w:\n",
    "            if i == j:\n",
    "                status = \"green\"\n",
    "                # qui farò tutti i controllli del caso \n",
    "                values = list(occurrencies.values())\n",
    "                \n",
    "\n",
    "\n",
    "                if j in values:\n",
    "                    keys = [ key for key, v in occurrencies.items() if v in values ]\n",
    "                    \n",
    "                    for key in keys:\n",
    "                        if statuses[key] != \"green\":\n",
    "                            del occurrencies [key]\n",
    "                            statuses[key] = \"grey\"\n",
    "\n",
    "                    \n",
    "                    #print(f\"PRIMA DELLA REMOVE\")\n",
    "                    #print(f\"KEYS         -> {keys}\")\n",
    "                    #print(f\"VALUES       -> {values}\")\n",
    "                    #print(f\"OCCURRENCIES -> {occurrencies}\")\n",
    "                    values.remove(j)\n",
    "                    #print(f\"DOPO DELLA REMOVE\")\n",
    "                    #print(f\"KEYS         -> {keys}\")\n",
    "                    #print(f\"VALUES       -> {values}\")\n",
    "                    #print(f\"OCCURRENCIES -> {occurrencies}\")\n",
    "                    for index in range(len(values)):\n",
    "                        key = keys[index]\n",
    "                        if values[index] not in occurrencies.values():\n",
    "                            occurrencies[key] = values[index]\n",
    "                            statuses[key] = \"yellow\"\n",
    "                      \n",
    "\n",
    "                \n",
    "                occurrencies[i] = j\n",
    "                break\n",
    "\n",
    "           \n",
    "                \n",
    "\n",
    "            if i not in occurrencies.keys() and j not in occurrencies.values():\n",
    "               status = \"orange\"\n",
    "               occurrencies[i] = j\n",
    "                \n",
    "\n",
    "    \n",
    "\n",
    "\n",
    "    statuses.append(status)\n",
    "    \n",
    "\n",
    "print(user)\n",
    "print(word) \n",
    "print(occurrencies)\n",
    "print(statuses)"
   ]
  },
  {
   "cell_type": "code",
   "execution_count": null,
   "id": "93b71211-31dc-475d-916e-a1505d4ca0ae",
   "metadata": {},
   "outputs": [],
   "source": []
  },
  {
   "cell_type": "code",
   "execution_count": 9,
   "id": "421a79cc-5633-4780-b45f-d6735c1d0c6c",
   "metadata": {},
   "outputs": [
    {
     "name": "stdout",
     "output_type": "stream",
     "text": [
      "\u001b[32mPROVA DI TESTO VERDE\n",
      "\u001b[33mPROVA DI TESTO VERDE\n",
      "\u001b[39mjdsjfdsaf\n"
     ]
    }
   ],
   "source": [
    "import random\n",
    "\n",
    "\n",
    "\n",
    "# pip install colorama\n",
    "from colorama import Fore\n",
    "\n",
    "print(Fore.GREEN + f\"PROVA DI TESTO VERDE\")\n",
    "print(Fore.YELLOW + f\"PROVA DI TESTO VERDE\")\n",
    "print(Fore.RESET + \"jdsjfdsaf\")"
   ]
  },
  {
   "cell_type": "code",
   "execution_count": 20,
   "id": "2eb6bf89-677d-4a98-abca-8e7e23d2e8a0",
   "metadata": {},
   "outputs": [
    {
     "name": "stdout",
     "output_type": "stream",
     "text": [
      "DEBUG: La parola del giorno è britt\n"
     ]
    }
   ],
   "source": [
    "words_bank = [\n",
    "    \"train\",\n",
    "    \"stove\",\n",
    "    \"purge\",\n",
    "    \"britt\"\n",
    "    \n",
    "\n",
    "]    \n",
    "\n",
    "random.seed(0)\n",
    "todays_word = words_bank[random.randint(0, len(words_bank) - 1)]\n",
    "print(f\"DEBUG: La parola del giorno è {todays_word}\")\n",
    "\n",
    "\n",
    "MAX_GUESSES= 6\n",
    "    "
   ]
  },
  {
   "cell_type": "code",
   "execution_count": 37,
   "id": "63231f22-db83-435b-b690-fb127dd5d92b",
   "metadata": {},
   "outputs": [],
   "source": [
    "def game_init():\n",
    "    user_inputs = []\n",
    "    for i in range(MAX_GUESSES):\n",
    "        l = []\n",
    "        for i in range(len(todays_word)):\n",
    "            l.append('-')\n",
    "\n",
    "        user_inputs.append(l)    \n",
    "           \n",
    "\n",
    "    return user_inputs\n",
    "\n",
    "def grid_init():\n",
    "    user_inputs = []\n",
    "    for i in range(MAX_GUESSES):\n",
    "        l = []\n",
    "        for i in range(len(todays_word)):\n",
    "            l.append('grey')\n",
    "\n",
    "        user_inputs.append(l)  \n",
    "\n",
    "    return user_inputs\n",
    "\n",
    "def print_grid(words, statuses):\n",
    "    for i in range(len(words)):\n",
    "        word = words[i]\n",
    "        status = statuses[i]\n",
    "        for j in range(len(word)):\n",
    "            c = word[j]\n",
    "            if status[j] == 'green':\n",
    "                print(Fore.GREEN + f\"{c.upper()}\", end=\"  \")\n",
    "\n",
    "            elif status[j] == 'yellow':\n",
    "                print(Fore.YELLOW + f\"{c.upper()}\", end=\"  \")\n",
    "            else: \n",
    "                print(Fore.RESET + f\"{c.upper()}\", end=\"  \") \n",
    "                \n",
    "        print(\"\\n\")\n",
    "\n",
    "\n",
    " "
   ]
  },
  {
   "cell_type": "code",
   "execution_count": null,
   "id": "19afa7b8-c6ef-485a-99e3-d3cb41e6f05d",
   "metadata": {},
   "outputs": [],
   "source": []
  },
  {
   "cell_type": "code",
   "execution_count": 39,
   "id": "db99cf08-5f40-4523-bce8-ed4f8047ffb8",
   "metadata": {},
   "outputs": [
    {
     "name": "stdout",
     "output_type": "stream",
     "text": [
      "[['-', '-', '-', '-', '-'], ['-', '-', '-', '-', '-'], ['-', '-', '-', '-', '-'], ['-', '-', '-', '-', '-'], ['-', '-', '-', '-', '-'], ['-', '-', '-', '-', '-']]\n"
     ]
    }
   ],
   "source": [
    "guesses = 0\n",
    "user_inputs = game_init()\n",
    "grid = grid_init()\n",
    "\n",
    "print(user_inputs)"
   ]
  },
  {
   "cell_type": "code",
   "execution_count": null,
   "id": "ad8981dd-2be7-4fb6-880a-89072585a4f1",
   "metadata": {},
   "outputs": [],
   "source": []
  },
  {
   "cell_type": "code",
   "execution_count": null,
   "id": "414c7ba9-ca24-462f-8cbf-4364fe589c36",
   "metadata": {},
   "outputs": [],
   "source": []
  },
  {
   "cell_type": "code",
   "execution_count": null,
   "id": "c5be9105-a4f8-4506-bb0b-ffa6175a2c35",
   "metadata": {},
   "outputs": [],
   "source": []
  },
  {
   "cell_type": "code",
   "execution_count": null,
   "id": "1f036195-a97d-47d2-ad8f-97eb61d7e78f",
   "metadata": {},
   "outputs": [],
   "source": []
  },
  {
   "cell_type": "code",
   "execution_count": null,
   "id": "26b1b2df-2285-4f34-9ef1-3baebe3a0180",
   "metadata": {},
   "outputs": [],
   "source": []
  },
  {
   "cell_type": "code",
   "execution_count": null,
   "id": "4cfc094f-1110-4b51-9504-3d9080b4040d",
   "metadata": {},
   "outputs": [],
   "source": []
  },
  {
   "cell_type": "code",
   "execution_count": null,
   "id": "a99d33fd-1550-4d86-af95-6f8a9aca5104",
   "metadata": {},
   "outputs": [],
   "source": []
  },
  {
   "cell_type": "code",
   "execution_count": null,
   "id": "3321dcd2-05e4-4b3e-aacf-f5a1567e7199",
   "metadata": {},
   "outputs": [],
   "source": []
  },
  {
   "cell_type": "code",
   "execution_count": null,
   "id": "b9be6914-d344-4cb1-a510-1dbcba08b766",
   "metadata": {},
   "outputs": [],
   "source": []
  },
  {
   "cell_type": "code",
   "execution_count": null,
   "id": "debe7bee-cd15-40d0-8159-83e7262ae297",
   "metadata": {},
   "outputs": [],
   "source": []
  },
  {
   "cell_type": "code",
   "execution_count": null,
   "id": "9618243a-1618-474d-8167-c29e913fe4a4",
   "metadata": {},
   "outputs": [],
   "source": [
    " "
   ]
  },
  {
   "cell_type": "code",
   "execution_count": null,
   "id": "ee695b6f-f948-41fe-a423-ca6c3c0a1d67",
   "metadata": {},
   "outputs": [],
   "source": []
  },
  {
   "cell_type": "code",
   "execution_count": null,
   "id": "04d03482-2881-4ada-8249-197dec8e3d35",
   "metadata": {},
   "outputs": [],
   "source": []
  },
  {
   "cell_type": "code",
   "execution_count": null,
   "id": "d1f484ff-27aa-45e0-b703-06147b4c6481",
   "metadata": {},
   "outputs": [],
   "source": []
  },
  {
   "cell_type": "code",
   "execution_count": null,
   "id": "2d1d523d-3849-45cf-9366-7acbca4049d3",
   "metadata": {},
   "outputs": [],
   "source": []
  },
  {
   "cell_type": "code",
   "execution_count": null,
   "id": "f3395e58-ed1f-4630-9a33-651394c064d0",
   "metadata": {},
   "outputs": [],
   "source": []
  },
  {
   "cell_type": "code",
   "execution_count": null,
   "id": "f87e80c0-2ab2-4d69-afc7-4cbc091e181f",
   "metadata": {},
   "outputs": [],
   "source": []
  },
  {
   "cell_type": "code",
   "execution_count": null,
   "id": "73943664-cfbd-4ea1-a5f9-8d0a34145931",
   "metadata": {},
   "outputs": [],
   "source": []
  },
  {
   "cell_type": "code",
   "execution_count": null,
   "id": "ad110462-ffe8-4f3f-9b23-5a06fa0fdd6b",
   "metadata": {},
   "outputs": [],
   "source": []
  },
  {
   "cell_type": "code",
   "execution_count": null,
   "id": "4ad1110d-ccf7-4c2a-9ffc-a9ec560877c0",
   "metadata": {},
   "outputs": [],
   "source": []
  },
  {
   "cell_type": "code",
   "execution_count": null,
   "id": "d69a32c0-547b-4f10-b025-592b90fef69a",
   "metadata": {},
   "outputs": [],
   "source": []
  },
  {
   "cell_type": "code",
   "execution_count": null,
   "id": "d61a465f-9593-41a8-8e38-530487f5f7d5",
   "metadata": {},
   "outputs": [],
   "source": []
  },
  {
   "cell_type": "code",
   "execution_count": null,
   "id": "0b9f6c2e-dc30-4f84-8eac-eeb1d324b913",
   "metadata": {},
   "outputs": [],
   "source": []
  },
  {
   "cell_type": "code",
   "execution_count": null,
   "id": "b5db9214-8e49-4473-93e4-e94bcfef1cb9",
   "metadata": {},
   "outputs": [],
   "source": []
  },
  {
   "cell_type": "code",
   "execution_count": null,
   "id": "49f7e70d-1dc1-4e81-9b55-5bdca23196b2",
   "metadata": {},
   "outputs": [],
   "source": []
  },
  {
   "cell_type": "code",
   "execution_count": null,
   "id": "19634002-8c44-4aa3-88fd-77441dec3a82",
   "metadata": {},
   "outputs": [],
   "source": []
  },
  {
   "cell_type": "code",
   "execution_count": null,
   "id": "0ce55e85-6f71-4e83-868b-daa5d091b082",
   "metadata": {},
   "outputs": [],
   "source": []
  },
  {
   "cell_type": "code",
   "execution_count": null,
   "id": "831951f4-7447-4ed5-b4fa-2310e9818f07",
   "metadata": {},
   "outputs": [],
   "source": []
  },
  {
   "cell_type": "code",
   "execution_count": null,
   "id": "bdb866a6-6b37-4140-8238-e0cde5e0bab0",
   "metadata": {},
   "outputs": [],
   "source": []
  },
  {
   "cell_type": "code",
   "execution_count": null,
   "id": "20976880-e9a0-4351-a0e3-8e4d954119e6",
   "metadata": {},
   "outputs": [],
   "source": []
  },
  {
   "cell_type": "code",
   "execution_count": null,
   "id": "ce567a56-6de5-462b-a6af-a0630c1d49c3",
   "metadata": {},
   "outputs": [],
   "source": []
  },
  {
   "cell_type": "code",
   "execution_count": null,
   "id": "301c5a1c-ab61-4320-9591-3a48ad558d72",
   "metadata": {},
   "outputs": [],
   "source": []
  },
  {
   "cell_type": "code",
   "execution_count": null,
   "id": "c2d7f0ce-3ca4-4a5a-ace6-104cd8f4e51e",
   "metadata": {},
   "outputs": [],
   "source": []
  },
  {
   "cell_type": "code",
   "execution_count": null,
   "id": "9f3d748d-4768-4f49-9323-d8fe5c846f10",
   "metadata": {},
   "outputs": [],
   "source": []
  },
  {
   "cell_type": "code",
   "execution_count": null,
   "id": "d10d27b1-3ad2-4552-bc6a-ae93450b22db",
   "metadata": {},
   "outputs": [],
   "source": []
  },
  {
   "cell_type": "code",
   "execution_count": null,
   "id": "86d27cf5-9a3e-42ee-8e90-e1f8879776eb",
   "metadata": {},
   "outputs": [],
   "source": []
  },
  {
   "cell_type": "code",
   "execution_count": null,
   "id": "14fc1765-b733-479c-ace7-40ac507f6383",
   "metadata": {},
   "outputs": [],
   "source": []
  },
  {
   "cell_type": "code",
   "execution_count": null,
   "id": "3c21ad6a-499c-4389-9e98-256aca68950c",
   "metadata": {},
   "outputs": [],
   "source": []
  },
  {
   "cell_type": "code",
   "execution_count": null,
   "id": "2d7ce118-7d4f-4a74-8fd9-5df2fc8955f1",
   "metadata": {},
   "outputs": [],
   "source": []
  },
  {
   "cell_type": "code",
   "execution_count": null,
   "id": "0f34595f-d8e0-4f0b-8f88-cd264c30f38f",
   "metadata": {},
   "outputs": [],
   "source": []
  },
  {
   "cell_type": "code",
   "execution_count": null,
   "id": "fa690ca7-b41c-4c5d-9fe5-fc11d744684d",
   "metadata": {},
   "outputs": [],
   "source": []
  },
  {
   "cell_type": "code",
   "execution_count": null,
   "id": "b9e7fb08-f7b4-454a-99da-fe05375a260a",
   "metadata": {},
   "outputs": [],
   "source": []
  },
  {
   "cell_type": "code",
   "execution_count": null,
   "id": "0befbbf7-fecf-474f-bbd4-9119b568bf39",
   "metadata": {},
   "outputs": [],
   "source": []
  },
  {
   "cell_type": "code",
   "execution_count": null,
   "id": "6b48d8b7-cc4b-4231-adce-32da481f67d7",
   "metadata": {},
   "outputs": [],
   "source": [
    " "
   ]
  },
  {
   "cell_type": "code",
   "execution_count": null,
   "id": "004339c4-e973-4ad1-b152-b4831c36cc57",
   "metadata": {},
   "outputs": [],
   "source": []
  },
  {
   "cell_type": "code",
   "execution_count": null,
   "id": "523754c6-c5d9-4e76-9c88-baf96132b069",
   "metadata": {},
   "outputs": [],
   "source": [
    " "
   ]
  },
  {
   "cell_type": "code",
   "execution_count": null,
   "id": "0bd319a6-28a8-43f1-bd35-abe89b1d0be4",
   "metadata": {},
   "outputs": [],
   "source": []
  },
  {
   "cell_type": "code",
   "execution_count": null,
   "id": "c70df818-932c-45be-8065-bfd9967922ba",
   "metadata": {},
   "outputs": [],
   "source": []
  },
  {
   "cell_type": "code",
   "execution_count": null,
   "id": "005db71e-cb1a-43ff-934e-e7365b7be33b",
   "metadata": {},
   "outputs": [],
   "source": []
  },
  {
   "cell_type": "code",
   "execution_count": null,
   "id": "16b4459c-f78a-4650-b65c-0e92ca48eb13",
   "metadata": {},
   "outputs": [],
   "source": []
  },
  {
   "cell_type": "code",
   "execution_count": null,
   "id": "85c5bd62-a5c7-4192-89b0-c132eec8b601",
   "metadata": {},
   "outputs": [],
   "source": [
    "   "
   ]
  },
  {
   "cell_type": "code",
   "execution_count": null,
   "id": "e9dd65d6-43d6-4313-8049-60b5ca6979ed",
   "metadata": {},
   "outputs": [],
   "source": []
  },
  {
   "cell_type": "code",
   "execution_count": null,
   "id": "a566d1e1-e856-4b49-9b11-a19ce2095ebe",
   "metadata": {},
   "outputs": [],
   "source": []
  },
  {
   "cell_type": "code",
   "execution_count": null,
   "id": "4be2f73e-6a14-4328-bd6b-643f2a025e30",
   "metadata": {},
   "outputs": [],
   "source": []
  },
  {
   "cell_type": "code",
   "execution_count": null,
   "id": "9c8be3b7-0454-4cfd-80f8-d5e56039a6ff",
   "metadata": {},
   "outputs": [],
   "source": []
  },
  {
   "cell_type": "code",
   "execution_count": null,
   "id": "8a1c1523-e650-40d9-90f5-e142c17c19f4",
   "metadata": {},
   "outputs": [],
   "source": []
  },
  {
   "cell_type": "code",
   "execution_count": null,
   "id": "f7e3b941-2519-4242-8325-709b984998db",
   "metadata": {},
   "outputs": [],
   "source": []
  },
  {
   "cell_type": "code",
   "execution_count": null,
   "id": "91fff15f-ae88-4866-8103-5efa4ce443e3",
   "metadata": {},
   "outputs": [],
   "source": []
  },
  {
   "cell_type": "code",
   "execution_count": null,
   "id": "1e2f4645-754d-41d6-8575-c56d6ea4eac1",
   "metadata": {},
   "outputs": [],
   "source": []
  },
  {
   "cell_type": "code",
   "execution_count": null,
   "id": "cdfea2a1-0d51-4b16-9f31-4939e7eedf5b",
   "metadata": {},
   "outputs": [],
   "source": []
  },
  {
   "cell_type": "code",
   "execution_count": null,
   "id": "02d633a2-b2e5-42d6-a07a-411664e2525d",
   "metadata": {},
   "outputs": [],
   "source": []
  },
  {
   "cell_type": "code",
   "execution_count": null,
   "id": "874eb72a-e48e-44bd-96df-d64711d21957",
   "metadata": {},
   "outputs": [],
   "source": []
  },
  {
   "cell_type": "code",
   "execution_count": null,
   "id": "5cd405b2-3a32-41d1-9bd5-f31555137d92",
   "metadata": {},
   "outputs": [],
   "source": []
  },
  {
   "cell_type": "code",
   "execution_count": null,
   "id": "a736763b-0a9a-42aa-a997-1c588d6608c4",
   "metadata": {},
   "outputs": [],
   "source": []
  },
  {
   "cell_type": "code",
   "execution_count": null,
   "id": "e0d97fb6-85a6-4a98-8583-b865fd9407a2",
   "metadata": {},
   "outputs": [],
   "source": []
  },
  {
   "cell_type": "code",
   "execution_count": null,
   "id": "28cb06ff-efd6-44d7-acbe-f9736bff1227",
   "metadata": {},
   "outputs": [],
   "source": []
  },
  {
   "cell_type": "code",
   "execution_count": null,
   "id": "e72aafbc-e33d-4769-b9b3-b52527f87d66",
   "metadata": {},
   "outputs": [],
   "source": []
  },
  {
   "cell_type": "code",
   "execution_count": null,
   "id": "443c7b7a-b8e2-4f9a-9e0c-e574db56a4fe",
   "metadata": {},
   "outputs": [],
   "source": []
  },
  {
   "cell_type": "code",
   "execution_count": null,
   "id": "8a3ccf4a-aa6c-4f68-9c69-f11ecd84256d",
   "metadata": {},
   "outputs": [],
   "source": []
  },
  {
   "cell_type": "code",
   "execution_count": null,
   "id": "b6f45ed1-cb63-4187-a1ce-b9401ddbf7c0",
   "metadata": {},
   "outputs": [],
   "source": []
  },
  {
   "cell_type": "code",
   "execution_count": null,
   "id": "92b9f9f8-c373-49ea-9a93-581e2e5ece5e",
   "metadata": {},
   "outputs": [],
   "source": []
  },
  {
   "cell_type": "code",
   "execution_count": null,
   "id": "eae88fb8-c622-4db3-82a0-f5833ff584e6",
   "metadata": {},
   "outputs": [],
   "source": []
  },
  {
   "cell_type": "code",
   "execution_count": null,
   "id": "21e58294-5966-4aa8-b5e5-799251aee71e",
   "metadata": {},
   "outputs": [],
   "source": []
  },
  {
   "cell_type": "code",
   "execution_count": null,
   "id": "23af3bf8-e3eb-4542-986d-b967c572d2a4",
   "metadata": {},
   "outputs": [],
   "source": []
  },
  {
   "cell_type": "code",
   "execution_count": null,
   "id": "599a6b0c-613d-4831-a3a7-d64376ddc4a4",
   "metadata": {},
   "outputs": [],
   "source": []
  },
  {
   "cell_type": "code",
   "execution_count": null,
   "id": "03b66f88-8807-494b-bffe-9332c4a32b35",
   "metadata": {},
   "outputs": [],
   "source": []
  },
  {
   "cell_type": "code",
   "execution_count": null,
   "id": "aa698b68-f22d-4485-953b-25b5ce7ab85e",
   "metadata": {},
   "outputs": [],
   "source": []
  },
  {
   "cell_type": "code",
   "execution_count": null,
   "id": "f7947ace-640a-4de8-8791-04e903cf8008",
   "metadata": {},
   "outputs": [],
   "source": []
  },
  {
   "cell_type": "code",
   "execution_count": null,
   "id": "761c2151-a416-4a26-abd1-76d90a484bb9",
   "metadata": {},
   "outputs": [],
   "source": []
  },
  {
   "cell_type": "code",
   "execution_count": null,
   "id": "cc869f7a-f600-418f-8427-bc064ddca63d",
   "metadata": {},
   "outputs": [],
   "source": []
  },
  {
   "cell_type": "code",
   "execution_count": null,
   "id": "df6e68a4-5770-42fc-8b07-68d1b5f05bf8",
   "metadata": {},
   "outputs": [],
   "source": []
  },
  {
   "cell_type": "code",
   "execution_count": null,
   "id": "d00d0b84-0ae0-4f21-aa39-0955e1edc637",
   "metadata": {},
   "outputs": [],
   "source": []
  },
  {
   "cell_type": "code",
   "execution_count": null,
   "id": "8ad3d54e-71ee-4067-84af-ba66f37998aa",
   "metadata": {},
   "outputs": [],
   "source": []
  },
  {
   "cell_type": "code",
   "execution_count": null,
   "id": "36426dda-2309-4d17-98df-43514639ee5d",
   "metadata": {},
   "outputs": [],
   "source": []
  },
  {
   "cell_type": "code",
   "execution_count": null,
   "id": "4ff45a02-de7f-4c35-b5c2-44f5668358d9",
   "metadata": {},
   "outputs": [],
   "source": []
  },
  {
   "cell_type": "code",
   "execution_count": null,
   "id": "14305c37-58ce-4b30-8978-ec2e057b17ea",
   "metadata": {},
   "outputs": [],
   "source": []
  },
  {
   "cell_type": "code",
   "execution_count": null,
   "id": "32e0dd67-279e-459e-9348-4977aebda3be",
   "metadata": {},
   "outputs": [],
   "source": []
  },
  {
   "cell_type": "code",
   "execution_count": null,
   "id": "45e2330c-f808-4579-a70c-98fa2fb2cd0c",
   "metadata": {},
   "outputs": [],
   "source": []
  },
  {
   "cell_type": "code",
   "execution_count": null,
   "id": "478f197f-3138-4fb1-b4f8-1bcb11a450ec",
   "metadata": {},
   "outputs": [],
   "source": []
  },
  {
   "cell_type": "code",
   "execution_count": null,
   "id": "fc66afa4-8481-4301-bf39-215e41bffd40",
   "metadata": {},
   "outputs": [],
   "source": []
  }
 ],
 "metadata": {
  "kernelspec": {
   "display_name": "Python 3 (ipykernel)",
   "language": "python",
   "name": "python3"
  },
  "language_info": {
   "codemirror_mode": {
    "name": "ipython",
    "version": 3
   },
   "file_extension": ".py",
   "mimetype": "text/x-python",
   "name": "python",
   "nbconvert_exporter": "python",
   "pygments_lexer": "ipython3",
   "version": "3.11.6"
  }
 },
 "nbformat": 4,
 "nbformat_minor": 5
}
