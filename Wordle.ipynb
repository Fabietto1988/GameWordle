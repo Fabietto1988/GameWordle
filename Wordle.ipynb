{
 "cells": [
  {
   "cell_type": "code",
   "execution_count": 1,
   "id": "541c2a5a-a2cf-4d8a-9b01-b0e67adb1156",
   "metadata": {},
   "outputs": [],
   "source": [
    "# { 0: 4, 3: 3}\n",
    "# [\"yellow\", \"grey\", \"grey\", \"green\", \"grey\"] "
   ]
  },
  {
   "cell_type": "code",
   "execution_count": 2,
   "id": "fc0dd36b-0127-483c-a182-d66bd6da7225",
   "metadata": {},
   "outputs": [],
   "source": [
    "\n",
    "def check_word(user, word):\n",
    "    user = list(user)\n",
    "    word = list(word)\n",
    "    occurrencies = {}\n",
    "    statuses = []\n",
    "    \n",
    "    for i in range(len(user)):\n",
    "        #print(f\"Lettera del utente n. {i}\")\n",
    "        u = user[i]\n",
    "        status =\"grey\"\n",
    "        for j in range(len(word)):\n",
    "            w = word[j]\n",
    "            if u == w:\n",
    "                if i == j: \n",
    "                    status = \"green\"\n",
    "                    #Qui farò tutti i controlli del caso\n",
    "                    values = list(occurrencies.values())\n",
    "                    \n",
    "    \n",
    "                    if j in values:\n",
    "                        keys = [ key for key, v in occurrencies.items() if v in values ]\n",
    "                        \n",
    "                        for key in keys:\n",
    "                            if statuses[key] != \"green\":\n",
    "                                del occurrencies[key]\n",
    "                                statuses[key] = \"grey\"\n",
    "    \n",
    "                        #print(\"PRIMA DELLA REMOVE\")\n",
    "                        #print(f\"KEYS         -> {keys}\")\n",
    "                        #print(f\"VALUES       -> {values}\")\n",
    "                        #print(f\"OCCURRENCIES -> {occurrencies}\")\n",
    "                        values.remove(j)\n",
    "                        #print(\"DOPO LA REMOVE\")\n",
    "                        #print(f\"KEYS         -> {keys}\")\n",
    "                        #print(f\"VALUES       -> {values}\")\n",
    "                        #print(f\"OCCURRENCIES -> {occurrencies}\")\n",
    "                        for index in range(len(values)):\n",
    "                            key = keys[index]\n",
    "                            if values[index] not in occurrencies.values():\n",
    "                                occurrencies[key] = values[index]\n",
    "                                statuses[key] = \"yellow\"\n",
    "                    \n",
    "                    occurrencies[i] = j\n",
    "                    break\n",
    "    \n",
    "                if i not in occurrencies.keys() and j not in occurrencies.values():\n",
    "                    status = \"yellow\"\n",
    "                    occurrencies[i] = j\n",
    "    \n",
    "        statuses.append(status)\n",
    "    \n",
    "    print(user)\n",
    "    print(word)\n",
    "    print(occurrencies)\n",
    "    print(statuses)\n",
    "    return statuses    \n",
    "    "
   ]
  },
  {
   "cell_type": "code",
   "execution_count": null,
   "id": "7d484e22-2b16-449a-ab63-587c988912c8",
   "metadata": {},
   "outputs": [],
   "source": []
  },
  {
   "cell_type": "code",
   "execution_count": null,
   "id": "1a09ff0c-58b5-48fc-8655-605ab68592a4",
   "metadata": {},
   "outputs": [],
   "source": []
  },
  {
   "cell_type": "code",
   "execution_count": 3,
   "id": "2f65db14-5bb0-4afd-ad2f-5575872537ab",
   "metadata": {},
   "outputs": [
    {
     "name": "stdout",
     "output_type": "stream",
     "text": [
      "\u001b[32mPROVA DI TESTO VERDE\n",
      "\u001b[33mPROVA DI TESTO GIALLO\n",
      "\u001b[39mASUDGAISGD\n"
     ]
    }
   ],
   "source": [
    "import random\n",
    "import os\n",
    "import json\n",
    "\n",
    "\n",
    "# pip install colorama\n",
    "from colorama import Fore\n",
    "# pip install matplotlib\n",
    "import matplotlib.pyplot as plt\n",
    "\n",
    "print(Fore.GREEN + f\"PROVA DI TESTO VERDE\")\n",
    "print(Fore.YELLOW + f\"PROVA DI TESTO GIALLO\")\n",
    "print(Fore.RESET + \"ASUDGAISGD\")"
   ]
  },
  {
   "cell_type": "code",
   "execution_count": null,
   "id": "46d468cf-e97c-4fd4-915a-50b8bc3979a6",
   "metadata": {},
   "outputs": [],
   "source": []
  },
  {
   "cell_type": "code",
   "execution_count": 10,
   "id": "78d2c3d9-93df-4312-99a6-bc93ffdc7228",
   "metadata": {},
   "outputs": [],
   "source": [
    "import requests\n",
    "\n",
    "\n",
    "\n",
    "url = \"https://wordsapiv1.p.rapidapi.com/words/\"\n",
    "\n",
    "#querystring = {\"letterPattern\":\"^a.{4}$\",\"pronunciationpattern\":\".*æm$\",\"limit\":\"100\",\"page\":\"1\",\"hasDetails\":\"hasDetails\"}\n",
    "\n",
    "headers = {\n",
    "\t\"X-RapidAPI-Key\": \"72b0847f8dmsh205b02d4da60b1fp145175jsn459270d91651\",\n",
    "\t\"X-RapidAPI-Host\": \"wordsapiv1.p.rapidapi.com\"\n",
    "}\n",
    "params = {\n",
    "    \"letters\": 5,\n",
    "    \"limit\": 100000\n",
    "}\n",
    "\n",
    "\n",
    "response = requests.get(url, headers=headers, params=params)\n",
    "\n"
   ]
  },
  {
   "cell_type": "code",
   "execution_count": null,
   "id": "a4846ffb-2162-4f77-a52a-0bea743d08f9",
   "metadata": {},
   "outputs": [],
   "source": []
  },
  {
   "cell_type": "code",
   "execution_count": null,
   "id": "f91985f5-504c-43cb-aba3-188098c0fb76",
   "metadata": {},
   "outputs": [],
   "source": []
  },
  {
   "cell_type": "code",
   "execution_count": 18,
   "id": "26f008d8-c33f-4ddd-b7c2-40b92dd390a8",
   "metadata": {},
   "outputs": [
    {
     "name": "stdout",
     "output_type": "stream",
     "text": [
      "10669\n",
      "!\"#$%&'()*+,-./:;<=>?@[\\]^_`{|}~\n",
      "10545\n"
     ]
    }
   ],
   "source": [
    "import string\n",
    "d = response.json()\n",
    "\n",
    "def filter_word(word):\n",
    "    val = True\n",
    "    for el in string.punctuation:\n",
    "        if el in word:\n",
    "            val = False\n",
    "    return val\n",
    "\n",
    "\n",
    "words_bank = [ word for word in d['results']['data'] if filter_word(word)]\n",
    "print(len(d['results']['data']))\n",
    "\n",
    "print(string.punctuation)\n",
    "print(len(words_bank))\n",
    "\n"
   ]
  },
  {
   "cell_type": "code",
   "execution_count": null,
   "id": "220ac5c7-d42a-4e12-8b10-032f17da57d9",
   "metadata": {},
   "outputs": [],
   "source": []
  },
  {
   "cell_type": "code",
   "execution_count": null,
   "id": "b468686c-68df-4e3b-b97d-be0531753d83",
   "metadata": {},
   "outputs": [],
   "source": []
  },
  {
   "cell_type": "code",
   "execution_count": 21,
   "id": "7f4c27ee-089c-4040-b7bc-7cac0aee5440",
   "metadata": {},
   "outputs": [
    {
     "name": "stdout",
     "output_type": "stream",
     "text": [
      "DEBUG: La parola del giorno è moldy\n"
     ]
    }
   ],
   "source": [
    "words_bank = words_bank\n",
    "    \n",
    "random.seed(0)\n",
    "todays_word = words_bank[random.randint(0, len(words_bank) - 1)]\n",
    "print(f\"DEBUG: La parola del giorno è {todays_word}\")\n",
    "\n",
    "MAX_GUESSES = 6\n",
    "\n",
    "stats_path = \"stats_wordle.json\""
   ]
  },
  {
   "cell_type": "code",
   "execution_count": null,
   "id": "971240fb-caf1-485f-af92-38b7997038a7",
   "metadata": {},
   "outputs": [],
   "source": []
  },
  {
   "cell_type": "code",
   "execution_count": 23,
   "id": "e04b3179-ade5-4d84-a759-dfcc2b8e7861",
   "metadata": {},
   "outputs": [],
   "source": [
    "def game_init():\n",
    "    user_inputs = []\n",
    "    for i in range(MAX_GUESSES):\n",
    "        l = []\n",
    "        for i in range(len(todays_word)):\n",
    "            l.append('-')\n",
    "        user_inputs.append(l)\n",
    "    return user_inputs\n",
    "\n",
    "def grid_init():\n",
    "    user_inputs = []\n",
    "    for i in range(MAX_GUESSES):\n",
    "        l = []\n",
    "        for i in range(len(todays_word)):\n",
    "            l.append('grey')\n",
    "        user_inputs.append(l)\n",
    "    return user_inputs\n",
    "\n",
    "def update_stats(guesses):\n",
    "    stats = {}\n",
    "    if os.path.exists(stats_path):\n",
    "        with open(stats_path) as file:\n",
    "            stats = json.load(file)\n",
    "    else:\n",
    "        for i in range(MAX_GUESSES):\n",
    "            stats[str(i + 1)] = 0\n",
    "\n",
    "    stats[str(guesses)] += 1\n",
    "    with open(stats_path, \"w\") as file:\n",
    "        json.dump(stats, file)\n",
    "\n",
    "                  \n",
    "def print_stats():\n",
    "    with open(stats_path) as f:\n",
    "        d = json.load(f)\n",
    "        for k, v in d.items():\n",
    "            print(f\"{k} tentativi: \", end=\" \")\n",
    "            print(\"X\"*v)\n",
    "\n",
    "\n",
    "def print_plt_stats():\n",
    "    with open(stats_path) as f:\n",
    "        d = json.load(f)\n",
    "        x = list(d.keys())\n",
    "        y = list(d.values())\n",
    "        \n",
    "        plt.bar(x, y, color=\"green\")\n",
    "        plt.xlabel(\"Tentativi\")\n",
    "        plt.xlabel(\"Frequenze\")\n",
    "        plt.title(\"Statistiche\")\n",
    "        plt.show()\n",
    "        \n",
    "def print_grid(words, statuses):\n",
    "    for i in range(len(words)):\n",
    "        word = words[i]\n",
    "        status = statuses[i]\n",
    "        for j in range(len(word)):\n",
    "            c = word[j]\n",
    "            if status[j] == 'green':\n",
    "                print(Fore.GREEN + f\"{c.upper()}\", end=\"  \")\n",
    "            elif status[j] == 'yellow':\n",
    "                print(Fore.YELLOW + f\"{c.upper()}\", end=\"  \")\n",
    "            else:\n",
    "                print(Fore.RESET + f\"{c.upper()}\", end=\"  \")\n",
    "        print(\"\\n\")    \n",
    "        "
   ]
  },
  {
   "cell_type": "code",
   "execution_count": null,
   "id": "e9e4c311-026d-4cb5-b401-4ed787e8b960",
   "metadata": {},
   "outputs": [],
   "source": []
  },
  {
   "cell_type": "code",
   "execution_count": null,
   "id": "fc4cbd99-b7f3-4f67-8ccc-ca8c1ca3e674",
   "metadata": {},
   "outputs": [],
   "source": []
  },
  {
   "cell_type": "code",
   "execution_count": 24,
   "id": "f49048af-ac7b-4260-baaa-006af5dd03f5",
   "metadata": {},
   "outputs": [
    {
     "name": "stdout",
     "output_type": "stream",
     "text": [
      "\u001b[39m-  \u001b[39m-  \u001b[39m-  \u001b[39m-  \u001b[39m-  \n",
      "\n",
      "\u001b[39m-  \u001b[39m-  \u001b[39m-  \u001b[39m-  \u001b[39m-  \n",
      "\n",
      "\u001b[39m-  \u001b[39m-  \u001b[39m-  \u001b[39m-  \u001b[39m-  \n",
      "\n",
      "\u001b[39m-  \u001b[39m-  \u001b[39m-  \u001b[39m-  \u001b[39m-  \n",
      "\n",
      "\u001b[39m-  \u001b[39m-  \u001b[39m-  \u001b[39m-  \u001b[39m-  \n",
      "\n",
      "\u001b[39m-  \u001b[39m-  \u001b[39m-  \u001b[39m-  \u001b[39m-  \n",
      "\n"
     ]
    },
    {
     "name": "stdin",
     "output_type": "stream",
     "text": [
      "Inserisci una parola (q)uit\n",
      " britt\n"
     ]
    },
    {
     "name": "stdout",
     "output_type": "stream",
     "text": [
      "['b', 'r', 'i', 't', 't']\n",
      "['m', 'o', 'l', 'd', 'y']\n",
      "{}\n",
      "['grey', 'grey', 'grey', 'grey', 'grey']\n",
      "\u001b[39mB  \u001b[39mR  \u001b[39mI  \u001b[39mT  \u001b[39mT  \n",
      "\n",
      "\u001b[39m-  \u001b[39m-  \u001b[39m-  \u001b[39m-  \u001b[39m-  \n",
      "\n",
      "\u001b[39m-  \u001b[39m-  \u001b[39m-  \u001b[39m-  \u001b[39m-  \n",
      "\n",
      "\u001b[39m-  \u001b[39m-  \u001b[39m-  \u001b[39m-  \u001b[39m-  \n",
      "\n",
      "\u001b[39m-  \u001b[39m-  \u001b[39m-  \u001b[39m-  \u001b[39m-  \n",
      "\n",
      "\u001b[39m-  \u001b[39m-  \u001b[39m-  \u001b[39m-  \u001b[39m-  \n",
      "\n"
     ]
    },
    {
     "name": "stdin",
     "output_type": "stream",
     "text": [
      "Inserisci una parola (q)uit\n",
      " modly\n"
     ]
    },
    {
     "name": "stdout",
     "output_type": "stream",
     "text": [
      "Parola non presente nel dizionario\n",
      "\u001b[39mB  \u001b[39mR  \u001b[39mI  \u001b[39mT  \u001b[39mT  \n",
      "\n",
      "\u001b[39m-  \u001b[39m-  \u001b[39m-  \u001b[39m-  \u001b[39m-  \n",
      "\n",
      "\u001b[39m-  \u001b[39m-  \u001b[39m-  \u001b[39m-  \u001b[39m-  \n",
      "\n",
      "\u001b[39m-  \u001b[39m-  \u001b[39m-  \u001b[39m-  \u001b[39m-  \n",
      "\n",
      "\u001b[39m-  \u001b[39m-  \u001b[39m-  \u001b[39m-  \u001b[39m-  \n",
      "\n",
      "\u001b[39m-  \u001b[39m-  \u001b[39m-  \u001b[39m-  \u001b[39m-  \n",
      "\n"
     ]
    },
    {
     "name": "stdin",
     "output_type": "stream",
     "text": [
      "Inserisci una parola (q)uit\n",
      " moldy\n"
     ]
    },
    {
     "name": "stdout",
     "output_type": "stream",
     "text": [
      "\u001b[32mHai indovinato! La parola del giorno era moldy\n",
      "\u001b[39mCi hai messo 2 tentativi\n",
      "1 tentativi:  XXXXXXXX\n",
      "2 tentativi:  XXX\n",
      "3 tentativi:  \n",
      "4 tentativi:  XX\n",
      "5 tentativi:  \n",
      "6 tentativi:  X\n"
     ]
    },
    {
     "data": {
      "image/png": "[encoded data removed]",
      "text/plain": [
       "<Figure size 640x480 with 1 Axes>"
      ]
     },
     "metadata": {},
     "output_type": "display_data"
    }
   ],
   "source": [
    "guesses = 0\n",
    "user_inputs = game_init()\n",
    "grid = grid_init()\n",
    "\n",
    "game = True\n",
    "\n",
    "while game:\n",
    "    print_grid(user_inputs, grid)\n",
    "    guess = input(\"Inserisci una parola (q)uit\\n\")\n",
    "    guess = guess.lower()\n",
    "    \n",
    "    if guess == \"q\":\n",
    "        game = False\n",
    "    elif len(guess ) < 5 or len(guess) > 5:\n",
    "        print(\"Lunghezza non consentita\")\n",
    "    elif guess not in words_bank:\n",
    "        print(\"Parola non presente nel dizionario\")\n",
    "    else:\n",
    "        user_inputs[guesses] = list(guess)\n",
    "        guesses += 1\n",
    "        if guess == todays_word:\n",
    "            print(Fore.GREEN + f\"Hai indovinato! La parola del giorno era {todays_word}\")\n",
    "            print(Fore.RESET + f\"Ci hai messo {guesses} tentativi\")\n",
    "            update_stats(guesses)\n",
    "            game = False\n",
    "            print_stats()\n",
    "            print_plt_stats()\n",
    "        else:\n",
    "            statuses = check_word(guess, todays_word)\n",
    "            grid[guesses -1] = statuses\n",
    "            \n",
    "            "
   ]
  },
  {
   "cell_type": "code",
   "execution_count": null,
   "id": "33c17426-a13f-47aa-81b7-e7d988a78f9f",
   "metadata": {},
   "outputs": [],
   "source": []
  },
  {
   "cell_type": "code",
   "execution_count": null,
   "id": "d28aec3a-2559-4111-a2db-fef2de78a87f",
   "metadata": {},
   "outputs": [],
   "source": []
  },
  {
   "cell_type": "code",
   "execution_count": null,
   "id": "059402be-41ca-4698-8c6b-c2c4df11acc9",
   "metadata": {},
   "outputs": [],
   "source": []
  },
  {
   "cell_type": "code",
   "execution_count": null,
   "id": "4b13e06a-64ab-4f7f-8ebc-3825053c54e7",
   "metadata": {},
   "outputs": [],
   "source": []
  },
  {
   "cell_type": "code",
   "execution_count": null,
   "id": "c03fce65-c378-49e9-84f6-51f337bad95a",
   "metadata": {},
   "outputs": [],
   "source": []
  },
  {
   "cell_type": "code",
   "execution_count": null,
   "id": "8bc37187-96f0-444d-9e5a-c3969b9cf312",
   "metadata": {},
   "outputs": [],
   "source": []
  }
 ],
 "metadata": {
  "kernelspec": {
   "display_name": "Python 3 (ipykernel)",
   "language": "python",
   "name": "python3"
  },
  "language_info": {
   "codemirror_mode": {
    "name": "ipython",
    "version": 3
   },
   "file_extension": ".py",
   "mimetype": "text/x-python",
   "name": "python",
   "nbconvert_exporter": "python",
   "pygments_lexer": "ipython3",
   "version": "3.11.5"
  }
 },
 "nbformat": 4,
 "nbformat_minor": 5
}
