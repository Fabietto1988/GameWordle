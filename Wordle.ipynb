{
 "cells": [
  {
   "cell_type": "code",
   "execution_count": 1,
   "id": "541c2a5a-a2cf-4d8a-9b01-b0e67adb1156",
   "metadata": {},
   "outputs": [],
   "source": [
    "# { 0: 4, 3: 3}\n",
    "# [\"yellow\", \"grey\", \"grey\", \"green\", \"grey\"] "
   ]
  },
  {
   "cell_type": "code",
   "execution_count": 5,
   "id": "fc0dd36b-0127-483c-a182-d66bd6da7225",
   "metadata": {},
   "outputs": [],
   "source": [
    "\n",
    "def check_word(user, word):\n",
    "    user = list(user)\n",
    "    word = list(word)\n",
    "    occurrencies = {}\n",
    "    statuses = []\n",
    "    \n",
    "    for i in range(len(user)):\n",
    "        #print(f\"Lettera del utente n. {i}\")\n",
    "        u = user[i]\n",
    "        status =\"grey\"\n",
    "        for j in range(len(word)):\n",
    "            w = word[j]\n",
    "            if u == w:\n",
    "                if i == j: \n",
    "                    status = \"green\"\n",
    "                    #Qui farò tutti i controlli del caso\n",
    "                    values = list(occurrencies.values())\n",
    "                    \n",
    "    \n",
    "                    if j in values:\n",
    "                        keys = [ key for key, v in occurrencies.items() if v in values ]\n",
    "                        \n",
    "                        for key in keys:\n",
    "                            if statuses[key] != \"green\":\n",
    "                                del occurrencies[key]\n",
    "                                statuses[key] = \"grey\"\n",
    "    \n",
    "                        #print(\"PRIMA DELLA REMOVE\")\n",
    "                        #print(f\"KEYS         -> {keys}\")\n",
    "                        #print(f\"VALUES       -> {values}\")\n",
    "                        #print(f\"OCCURRENCIES -> {occurrencies}\")\n",
    "                        values.remove(j)\n",
    "                        #print(\"DOPO LA REMOVE\")\n",
    "                        #print(f\"KEYS         -> {keys}\")\n",
    "                        #print(f\"VALUES       -> {values}\")\n",
    "                        #print(f\"OCCURRENCIES -> {occurrencies}\")\n",
    "                        for index in range(len(values)):\n",
    "                            key = keys[index]\n",
    "                            if values[index] not in occurrencies.values():\n",
    "                                occurrencies[key] = values[index]\n",
    "                                statuses[key] = \"yellow\"\n",
    "                    \n",
    "                    occurrencies[i] = j\n",
    "                    break\n",
    "    \n",
    "                if i not in occurrencies.keys() and j not in occurrencies.values():\n",
    "                    status = \"yellow\"\n",
    "                    occurrencies[i] = j\n",
    "    \n",
    "        statuses.append(status)\n",
    "    \n",
    "    print(user)\n",
    "    print(word)\n",
    "    print(occurrencies)\n",
    "    print(statuses)\n",
    "    return statuses    \n",
    "    "
   ]
  },
  {
   "cell_type": "code",
   "execution_count": null,
   "id": "0a782d31-d25f-46c9-8255-16d14388de6a",
   "metadata": {},
   "outputs": [],
   "source": []
  },
  {
   "cell_type": "code",
   "execution_count": null,
   "id": "96bca63b-18a1-4bef-9474-d66dab240cca",
   "metadata": {},
   "outputs": [],
   "source": []
  },
  {
   "cell_type": "code",
   "execution_count": null,
   "id": "caac6463-744e-495d-9d94-16b7c99afb48",
   "metadata": {},
   "outputs": [],
   "source": []
  },
  {
   "cell_type": "code",
   "execution_count": null,
   "id": "98848717-d893-4628-aa0a-138e71ae9e8a",
   "metadata": {},
   "outputs": [],
   "source": []
  },
  {
   "cell_type": "code",
   "execution_count": null,
   "id": "1a09ff0c-58b5-48fc-8655-605ab68592a4",
   "metadata": {},
   "outputs": [],
   "source": []
  },
  {
   "cell_type": "code",
   "execution_count": 16,
   "id": "2f65db14-5bb0-4afd-ad2f-5575872537ab",
   "metadata": {},
   "outputs": [
    {
     "name": "stdout",
     "output_type": "stream",
     "text": [
      "\u001b[32mPROVA DI TESTO VERDE\n",
      "\u001b[33mPROVA DI TESTO GIALLO\n",
      "\u001b[39mASUDGAISGD\n"
     ]
    }
   ],
   "source": [
    "import random\n",
    "import os\n",
    "import json\n",
    "\n",
    "\n",
    "# pip install colorama\n",
    "from colorama import Fore\n",
    "# pip install matplotlib\n",
    "import matplotlib.pyplot as plt\n",
    "\n",
    "print(Fore.GREEN + f\"PROVA DI TESTO VERDE\")\n",
    "print(Fore.YELLOW + f\"PROVA DI TESTO GIALLO\")\n",
    "print(Fore.RESET + \"ASUDGAISGD\")"
   ]
  },
  {
   "cell_type": "code",
   "execution_count": null,
   "id": "b5223d6d-f60c-4451-9613-ed2ce5bc8759",
   "metadata": {},
   "outputs": [],
   "source": []
  },
  {
   "cell_type": "code",
   "execution_count": null,
   "id": "733f9573-7d4a-4b7d-8eb1-577d5280f3e3",
   "metadata": {},
   "outputs": [],
   "source": []
  },
  {
   "cell_type": "code",
   "execution_count": null,
   "id": "43d64898-0d78-4c32-983d-e1b15211b32a",
   "metadata": {},
   "outputs": [],
   "source": []
  },
  {
   "cell_type": "code",
   "execution_count": null,
   "id": "044afc5d-a981-456a-bff1-68296217f34e",
   "metadata": {},
   "outputs": [],
   "source": []
  },
  {
   "cell_type": "code",
   "execution_count": null,
   "id": "ddc58b37-8609-4c88-b91c-f99a7451a9ad",
   "metadata": {},
   "outputs": [],
   "source": []
  },
  {
   "cell_type": "code",
   "execution_count": null,
   "id": "39b3ac2f-7ac1-4652-8e6b-26d77ee7d652",
   "metadata": {},
   "outputs": [],
   "source": []
  },
  {
   "cell_type": "code",
   "execution_count": null,
   "id": "360f23ee-0c08-405b-acf2-e3d3d9f37942",
   "metadata": {},
   "outputs": [],
   "source": []
  },
  {
   "cell_type": "code",
   "execution_count": null,
   "id": "789d342a-284a-4bd4-aaf9-e10d899fd507",
   "metadata": {},
   "outputs": [],
   "source": []
  },
  {
   "cell_type": "code",
   "execution_count": null,
   "id": "d2f56744-6435-467c-a039-e59216591448",
   "metadata": {},
   "outputs": [],
   "source": []
  },
  {
   "cell_type": "code",
   "execution_count": null,
   "id": "c2ac1ab4-e0d7-4668-a87a-3d41416c10af",
   "metadata": {},
   "outputs": [],
   "source": []
  },
  {
   "cell_type": "code",
   "execution_count": null,
   "id": "78d2c3d9-93df-4312-99a6-bc93ffdc7228",
   "metadata": {},
   "outputs": [],
   "source": []
  },
  {
   "cell_type": "code",
   "execution_count": null,
   "id": "b468686c-68df-4e3b-b97d-be0531753d83",
   "metadata": {},
   "outputs": [],
   "source": []
  },
  {
   "cell_type": "code",
   "execution_count": 7,
   "id": "7f4c27ee-089c-4040-b7bc-7cac0aee5440",
   "metadata": {},
   "outputs": [
    {
     "name": "stdout",
     "output_type": "stream",
     "text": [
      "DEBUG: La parola del giorno è britt\n"
     ]
    }
   ],
   "source": [
    "words_bank = [\n",
    "    \"train\",\n",
    "    \"stove\",\n",
    "    \"purge\",\n",
    "    \"britt\"\n",
    "]\n",
    "\n",
    "random.seed(0)\n",
    "todays_word = words_bank[random.randint(0, len(words_bank) - 1)]\n",
    "print(f\"DEBUG: La parola del giorno è {todays_word}\")\n",
    "\n",
    "MAX_GUESSES = 6\n",
    "\n",
    "stats_path = \"stats_wordle.json\""
   ]
  },
  {
   "cell_type": "code",
   "execution_count": null,
   "id": "97d866bc-0e94-48ed-b2cf-f0e3d5db4abd",
   "metadata": {},
   "outputs": [],
   "source": []
  },
  {
   "cell_type": "code",
   "execution_count": null,
   "id": "38ea4371-4a68-4040-a538-30e7a3e0358e",
   "metadata": {},
   "outputs": [],
   "source": []
  },
  {
   "cell_type": "code",
   "execution_count": null,
   "id": "e63c99d0-2601-481d-9078-927ec92d51be",
   "metadata": {},
   "outputs": [],
   "source": []
  },
  {
   "cell_type": "code",
   "execution_count": null,
   "id": "efe41096-ed45-4ead-a950-6490a7c24ab4",
   "metadata": {},
   "outputs": [],
   "source": []
  },
  {
   "cell_type": "code",
   "execution_count": null,
   "id": "3712245c-1b26-4c80-b040-73e8376b4e3f",
   "metadata": {},
   "outputs": [],
   "source": []
  },
  {
   "cell_type": "code",
   "execution_count": null,
   "id": "fd4ac020-79a5-4300-a5d1-dc5dcd5bcd79",
   "metadata": {},
   "outputs": [],
   "source": []
  },
  {
   "cell_type": "code",
   "execution_count": null,
   "id": "3fa1f8ee-e41f-4248-aec4-f92cb3b5f633",
   "metadata": {},
   "outputs": [],
   "source": []
  },
  {
   "cell_type": "code",
   "execution_count": null,
   "id": "b73da6bd-2a11-435a-8d6b-36218b2575d0",
   "metadata": {},
   "outputs": [],
   "source": []
  },
  {
   "cell_type": "code",
   "execution_count": null,
   "id": "38b637aa-13fa-4b88-b626-91d9e08812a1",
   "metadata": {},
   "outputs": [],
   "source": []
  },
  {
   "cell_type": "code",
   "execution_count": null,
   "id": "a4c927bb-17d3-444e-821a-738ae7ccf6d6",
   "metadata": {},
   "outputs": [],
   "source": []
  },
  {
   "cell_type": "code",
   "execution_count": null,
   "id": "971240fb-caf1-485f-af92-38b7997038a7",
   "metadata": {},
   "outputs": [],
   "source": []
  },
  {
   "cell_type": "code",
   "execution_count": 21,
   "id": "e04b3179-ade5-4d84-a759-dfcc2b8e7861",
   "metadata": {},
   "outputs": [],
   "source": [
    "def game_init():\n",
    "    user_inputs = []\n",
    "    for i in range(MAX_GUESSES):\n",
    "        l = []\n",
    "        for i in range(len(todays_word)):\n",
    "            l.append('-')\n",
    "        user_inputs.append(l)\n",
    "    return user_inputs\n",
    "\n",
    "def grid_init():\n",
    "    user_inputs = []\n",
    "    for i in range(MAX_GUESSES):\n",
    "        l = []\n",
    "        for i in range(len(todays_word)):\n",
    "            l.append('grey')\n",
    "        user_inputs.append(l)\n",
    "    return user_inputs\n",
    "\n",
    "def update_stats(guesses):\n",
    "    stats = {}\n",
    "    if os.path.exists(stats_path):\n",
    "        with open(stats_path) as file:\n",
    "            stats = json.load(file)\n",
    "    else:\n",
    "        for i in range(MAX_GUESSES):\n",
    "            stats[str(i + 1)] = 0\n",
    "\n",
    "    stats[str(guesses)] += 1\n",
    "    with open(stats_path, \"w\") as file:\n",
    "        json.dump(stats, file)\n",
    "\n",
    "                  \n",
    "def print_stats():\n",
    "    with open(stats_path) as f:\n",
    "        d = json.load(f)\n",
    "        for k, v in d.items():\n",
    "            print(f\"{k} tentativi: \", end=\" \")\n",
    "            print(\"X\"*v)\n",
    "\n",
    "\n",
    "def print_plt_stats():\n",
    "    with open(stats_path) as f:\n",
    "        d = json.load(f)\n",
    "        x = list(d.keys())\n",
    "        y = list(d.values())\n",
    "        \n",
    "        plt.bar(x, y, color=\"green\")\n",
    "        plt.xlabel(\"Tentativi\")\n",
    "        plt.xlabel(\"Frequenze\")\n",
    "        plt.title(\"Statistiche\")\n",
    "        plt.show()\n",
    "        \n",
    "def print_grid(words, statuses):\n",
    "    for i in range(len(words)):\n",
    "        word = words[i]\n",
    "        status = statuses[i]\n",
    "        for j in range(len(word)):\n",
    "            c = word[j]\n",
    "            if status[j] == 'green':\n",
    "                print(Fore.GREEN + f\"{c.upper()}\", end=\"  \")\n",
    "            elif status[j] == 'yellow':\n",
    "                print(Fore.YELLOW + f\"{c.upper()}\", end=\"  \")\n",
    "            else:\n",
    "                print(Fore.RESET + f\"{c.upper()}\", end=\"  \")\n",
    "        print(\"\\n\")    \n",
    "        "
   ]
  },
  {
   "cell_type": "code",
   "execution_count": null,
   "id": "5a2bc073-920a-476d-ad0b-f5f34b3ec248",
   "metadata": {},
   "outputs": [],
   "source": []
  },
  {
   "cell_type": "code",
   "execution_count": null,
   "id": "deb12a3b-5a48-4fdf-819d-127e1d2303b7",
   "metadata": {},
   "outputs": [],
   "source": []
  },
  {
   "cell_type": "code",
   "execution_count": null,
   "id": "d847ffeb-babd-4a69-938d-bc0423d3db46",
   "metadata": {},
   "outputs": [],
   "source": []
  },
  {
   "cell_type": "code",
   "execution_count": null,
   "id": "ed3a9872-1996-4812-bf78-b162e93dc08e",
   "metadata": {},
   "outputs": [],
   "source": []
  },
  {
   "cell_type": "code",
   "execution_count": null,
   "id": "9456f77a-bdf1-4d03-9e55-4a7d73b2834f",
   "metadata": {},
   "outputs": [],
   "source": []
  },
  {
   "cell_type": "code",
   "execution_count": null,
   "id": "66f1be32-3b5e-473c-9fdd-ad88635defe4",
   "metadata": {},
   "outputs": [],
   "source": []
  },
  {
   "cell_type": "code",
   "execution_count": null,
   "id": "8a634242-e47d-402a-a152-4472831a7fae",
   "metadata": {},
   "outputs": [],
   "source": []
  },
  {
   "cell_type": "code",
   "execution_count": null,
   "id": "46d2cd81-6441-4bd8-9662-773e2b812775",
   "metadata": {},
   "outputs": [],
   "source": []
  },
  {
   "cell_type": "code",
   "execution_count": null,
   "id": "30a05d6f-0815-40d3-98d5-28126e9d1225",
   "metadata": {},
   "outputs": [],
   "source": []
  },
  {
   "cell_type": "code",
   "execution_count": null,
   "id": "3c042a40-3c41-4b9b-a175-e3b9df60408f",
   "metadata": {},
   "outputs": [],
   "source": []
  },
  {
   "cell_type": "code",
   "execution_count": null,
   "id": "0a28f35e-dfe7-4345-9d94-801c650c4951",
   "metadata": {},
   "outputs": [],
   "source": []
  },
  {
   "cell_type": "code",
   "execution_count": null,
   "id": "e9e4c311-026d-4cb5-b401-4ed787e8b960",
   "metadata": {},
   "outputs": [],
   "source": []
  },
  {
   "cell_type": "code",
   "execution_count": null,
   "id": "fc4cbd99-b7f3-4f67-8ccc-ca8c1ca3e674",
   "metadata": {},
   "outputs": [],
   "source": []
  },
  {
   "cell_type": "code",
   "execution_count": 22,
   "id": "f49048af-ac7b-4260-baaa-006af5dd03f5",
   "metadata": {},
   "outputs": [
    {
     "name": "stdout",
     "output_type": "stream",
     "text": [
      "\u001b[39m-  \u001b[39m-  \u001b[39m-  \u001b[39m-  \u001b[39m-  \n",
      "\n",
      "\u001b[39m-  \u001b[39m-  \u001b[39m-  \u001b[39m-  \u001b[39m-  \n",
      "\n",
      "\u001b[39m-  \u001b[39m-  \u001b[39m-  \u001b[39m-  \u001b[39m-  \n",
      "\n",
      "\u001b[39m-  \u001b[39m-  \u001b[39m-  \u001b[39m-  \u001b[39m-  \n",
      "\n",
      "\u001b[39m-  \u001b[39m-  \u001b[39m-  \u001b[39m-  \u001b[39m-  \n",
      "\n",
      "\u001b[39m-  \u001b[39m-  \u001b[39m-  \u001b[39m-  \u001b[39m-  \n",
      "\n"
     ]
    },
    {
     "name": "stdin",
     "output_type": "stream",
     "text": [
      "Inserisci una parola (q)uit\n",
      " britt\n"
     ]
    },
    {
     "name": "stdout",
     "output_type": "stream",
     "text": [
      "\u001b[32mHai indovinato! La parola del giorno era britt\n",
      "\u001b[39mCi hai messo 1 tentativi\n",
      "1 tentativi:  XXXXXXXX\n",
      "2 tentativi:  XX\n",
      "3 tentativi:  \n",
      "4 tentativi:  XX\n",
      "5 tentativi:  \n",
      "6 tentativi:  X\n"
     ]
    },
    {
     "data": {
      "image/png": "[encoded data removed]",
      "text/plain": [
       "<Figure size 640x480 with 1 Axes>"
      ]
     },
     "metadata": {},
     "output_type": "display_data"
    }
   ],
   "source": [
    "guesses = 0\n",
    "user_inputs = game_init()\n",
    "grid = grid_init()\n",
    "\n",
    "game = True\n",
    "\n",
    "while game:\n",
    "    print_grid(user_inputs, grid)\n",
    "    guess = input(\"Inserisci una parola (q)uit\\n\")\n",
    "    guess = guess.lower()\n",
    "    \n",
    "    if guess == \"q\":\n",
    "        game = False\n",
    "    elif len(guess ) < 5 or len(guess) > 5:\n",
    "        print(\"Lunghezza non consentita\")\n",
    "    elif guess not in words_bank:\n",
    "        print(\"Parola non presente nel dizionario\")\n",
    "    else:\n",
    "        user_inputs[guesses] = list(guess)\n",
    "        guesses += 1\n",
    "        if guess == todays_word:\n",
    "            print(Fore.GREEN + f\"Hai indovinato! La parola del giorno era {todays_word}\")\n",
    "            print(Fore.RESET + f\"Ci hai messo {guesses} tentativi\")\n",
    "            update_stats(guesses)\n",
    "            game = False\n",
    "            print_stats()\n",
    "            print_plt_stats()\n",
    "        else:\n",
    "            statuses = check_word(guess, todays_word)\n",
    "            grid[guesses -1] = statuses\n",
    "            \n",
    "            "
   ]
  },
  {
   "cell_type": "code",
   "execution_count": null,
   "id": "6e494420-8cf0-44ae-ac4d-d48bf60ee890",
   "metadata": {},
   "outputs": [],
   "source": []
  },
  {
   "cell_type": "code",
   "execution_count": null,
   "id": "29e91201-2c0b-4b00-85dd-1e3ae27be10f",
   "metadata": {},
   "outputs": [],
   "source": []
  },
  {
   "cell_type": "code",
   "execution_count": null,
   "id": "9cc48bbe-a1f1-4a53-aac0-cb47c29d77f2",
   "metadata": {},
   "outputs": [],
   "source": []
  },
  {
   "cell_type": "code",
   "execution_count": null,
   "id": "11ba8694-e1e7-4caa-9f17-e299129c5557",
   "metadata": {},
   "outputs": [],
   "source": []
  },
  {
   "cell_type": "code",
   "execution_count": null,
   "id": "e3abb7ec-9c12-46dc-a871-15e6ccf44100",
   "metadata": {},
   "outputs": [],
   "source": []
  },
  {
   "cell_type": "code",
   "execution_count": null,
   "id": "059402be-41ca-4698-8c6b-c2c4df11acc9",
   "metadata": {},
   "outputs": [],
   "source": []
  },
  {
   "cell_type": "code",
   "execution_count": null,
   "id": "4b13e06a-64ab-4f7f-8ebc-3825053c54e7",
   "metadata": {},
   "outputs": [],
   "source": []
  },
  {
   "cell_type": "code",
   "execution_count": null,
   "id": "c03fce65-c378-49e9-84f6-51f337bad95a",
   "metadata": {},
   "outputs": [],
   "source": []
  },
  {
   "cell_type": "code",
   "execution_count": null,
   "id": "8bc37187-96f0-444d-9e5a-c3969b9cf312",
   "metadata": {},
   "outputs": [],
   "source": []
  }
 ],
 "metadata": {
  "kernelspec": {
   "display_name": "Python 3 (ipykernel)",
   "language": "python",
   "name": "python3"
  },
  "language_info": {
   "codemirror_mode": {
    "name": "ipython",
    "version": 3
   },
   "file_extension": ".py",
   "mimetype": "text/x-python",
   "name": "python",
   "nbconvert_exporter": "python",
   "pygments_lexer": "ipython3",
   "version": "3.11.6"
  }
 },
 "nbformat": 4,
 "nbformat_minor": 5
}
